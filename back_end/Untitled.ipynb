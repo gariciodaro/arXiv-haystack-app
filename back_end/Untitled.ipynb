{
 "cells": [
  {
   "cell_type": "code",
   "execution_count": 1,
   "metadata": {},
   "outputs": [],
   "source": [
    "from pyspark.sql import SparkSession\n",
    "from pyspark.sql.functions import split, explode\n",
    "from pyspark.sql.functions import regexp_extract\n",
    "from pyspark.sql.functions import col, concat_ws,lit\n",
    "from pyspark.sql.functions import trim\n",
    "from pyspark.sql.functions import udf\n",
    "from pyspark.sql.functions import monotonically_increasing_id\n",
    "import sys\n",
    "import os\n",
    "import re\n",
    "# Get credendials for AWS.\n",
    "import configparser\n",
    "config = configparser.ConfigParser()\n",
    "\n",
    "config.read('/home/gari/.aws/credentials')\n",
    "os.environ['AWS_ACCESS_KEY_ID']=config.get('credentials','KEY')\n",
    "os.environ['AWS_SECRET_ACCESS_KEY']=config.get('credentials','SECRET')"
   ]
  },
  {
   "cell_type": "code",
   "execution_count": 2,
   "metadata": {},
   "outputs": [],
   "source": [
    "def create_spark_session():\n",
    "    \"\"\"Creates SparkSession. General configurarion\n",
    "    of the script.\n",
    "    \"\"\"\n",
    "    spark = SparkSession \\\n",
    "        .builder \\\n",
    "        .config(\"spark.jars.packages\", \"org.apache.hadoop:hadoop-aws:2.7.0\") \\\n",
    "        .getOrCreate()\n",
    "    return spark"
   ]
  },
  {
   "cell_type": "code",
   "execution_count": 3,
   "metadata": {},
   "outputs": [],
   "source": [
    "spark=create_spark_session()\n",
    "input_data_1= \"s3a://arxivs3/input_data/arxiv-metadata-oai-snapshot.json\"\n",
    "input_data_2= \"s3a://arxivs3/input_data/NIPS.csv\"\n",
    "output_data=\"s3a://arxivs3/\""
   ]
  },
  {
   "cell_type": "code",
   "execution_count": 4,
   "metadata": {},
   "outputs": [],
   "source": [
    "df = spark.read.json(input_data_1)"
   ]
  },
  {
   "cell_type": "code",
   "execution_count": 6,
   "metadata": {},
   "outputs": [],
   "source": []
  },
  {
   "cell_type": "code",
   "execution_count": null,
   "metadata": {},
   "outputs": [],
   "source": []
  }
 ],
 "metadata": {
  "kernelspec": {
   "display_name": "Python 3",
   "language": "python",
   "name": "python3"
  },
  "language_info": {
   "codemirror_mode": {
    "name": "ipython",
    "version": 3
   },
   "file_extension": ".py",
   "mimetype": "text/x-python",
   "name": "python",
   "nbconvert_exporter": "python",
   "pygments_lexer": "ipython3",
   "version": "3.6.9"
  }
 },
 "nbformat": 4,
 "nbformat_minor": 2
}
